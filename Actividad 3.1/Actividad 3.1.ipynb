{
 "cells": [
  {
   "cell_type": "code",
   "execution_count": 3,
   "metadata": {},
   "outputs": [],
   "source": [
    "import pandas as pd\n",
    "import numpy as np\n",
    "df = pd.read_csv('Ventas_totales.csv')\n"
   ]
  },
  {
   "cell_type": "code",
   "execution_count": 4,
   "metadata": {},
   "outputs": [
    {
     "name": "stderr",
     "output_type": "stream",
     "text": [
      "/var/folders/8w/sm8xn9f56cq8c8s2spznp2nm0000gn/T/ipykernel_40361/1721247795.py:10: FutureWarning: DataFrame.fillna with 'method' is deprecated and will raise in a future version. Use obj.ffill() or obj.bfill() instead.\n",
      "  df[object_cols] = df[object_cols].fillna(method='ffill')\n",
      "/var/folders/8w/sm8xn9f56cq8c8s2spznp2nm0000gn/T/ipykernel_40361/1721247795.py:13: FutureWarning: DataFrame.fillna with 'method' is deprecated and will raise in a future version. Use obj.ffill() or obj.bfill() instead.\n",
      "  df[object_cols] = df[object_cols].fillna(method='bfill')\n"
     ]
    }
   ],
   "source": [
    "# Carga el archivo CSV\n",
    "df = pd.read_csv('Ventas_totales.csv')\n",
    "\n",
    "# Reemplaza valores nulos con la mediana en columnas numéricas\n",
    "numeric_cols = df.select_dtypes(include=['int64', 'float64']).columns\n",
    "df[numeric_cols] = df[numeric_cols].fillna(df[numeric_cols].median())\n",
    "\n",
    "# Reemplaza valores nulos con el método ffill en columnas de tipo object\n",
    "object_cols = df.select_dtypes(include=['object']).columns\n",
    "df[object_cols] = df[object_cols].fillna(method='ffill')\n",
    "\n",
    "# Reemplaza valores nulos con el método bfill en columnas de tipo object\n",
    "df[object_cols] = df[object_cols].fillna(method='bfill')\n",
    "\n",
    "# Reemplaza valores nulos con un string concreto en columnas de tipo object\n",
    "df[object_cols] = df[object_cols].fillna('Valor por defecto')\n",
    "\n",
    "# Reemplaza valores nulos con una constante en columnas numéricas\n",
    "df[numeric_cols] = df[numeric_cols].fillna(0)\n",
    "\n",
    "# Guarda el DataFrame modificado como un nuevo CSV\n",
    "df.to_csv('Ventas_totales_limpio.csv', index=False)"
   ]
  }
 ],
 "metadata": {
  "kernelspec": {
   "display_name": "Python 3",
   "language": "python",
   "name": "python3"
  },
  "language_info": {
   "codemirror_mode": {
    "name": "ipython",
    "version": 3
   },
   "file_extension": ".py",
   "mimetype": "text/x-python",
   "name": "python",
   "nbconvert_exporter": "python",
   "pygments_lexer": "ipython3",
   "version": "3.13.2"
  }
 },
 "nbformat": 4,
 "nbformat_minor": 2
}
